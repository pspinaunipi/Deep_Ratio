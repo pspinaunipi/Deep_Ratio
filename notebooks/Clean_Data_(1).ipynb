{
 "cells": [
  {
   "cell_type": "markdown",
   "id": "49ce5631",
   "metadata": {},
   "source": [
    "# Cleaning data\n",
    "\n",
    "\n",
    "There are 4 possible types of orders that a trader can place: \n",
    "1. Limit Orders (LO): Placing a new order in the book.\n",
    "2. Market Orders (MO): Executing a LO.\n",
    "3. Cancellations: Cancelling a existing order in the book.\n",
    "4. Updates: Changing the price of an existing order in the book.\n",
    "\n",
    "In the simulations only 3 types of orders are allowed: LO, MO and cancellations, meaning that updates needs to be modeled as a cancellation + a LO.\n",
    "\n",
    "In order to do so I implemented 2 fuctions:\n",
    "1. clean_data: This function differentiate between LO, cancellations/MO and updates.\n",
    "2. update_df: When an update occours models it as a cancellation + LO.\n",
    "\n",
    "Lastly I differentiated cancellations and MO using the function matching."
   ]
  },
  {
   "cell_type": "code",
   "execution_count": 1,
   "id": "044f18a8",
   "metadata": {},
   "outputs": [],
   "source": [
    "import pandas as pd\n",
    "import os\n",
    "import numpy as np\n",
    "import sys\n",
    "sys.path.append(\"../main/\")\n",
    "import match\n"
   ]
  },
  {
   "cell_type": "code",
   "execution_count": 2,
   "id": "13a26678",
   "metadata": {},
   "outputs": [],
   "source": [
    "# Load  LOB data\n",
    "DIR = \"../data/energia/LOB_ottobre21/LOB_ottobre21/\"\n",
    "filepath = os.path.abspath(DIR) + \"\\\\\"\n",
    "files = os.listdir(filepath)\n",
    "lst_df = []\n",
    "\n",
    "# Open all the files in the folder and concatenate them\n",
    "for file in files:\n",
    "     lst_df.append(match.load_data(DIR + file, del_time = False,\n",
    "                                   del_spread = True, start_month = True))\n",
    "df = pd.concat(lst_df)\n",
    "df.reset_index(inplace = True, drop = True)\n",
    "\n",
    "df[\"Quote\"] = df[\"BidVolume_0\"] * 0 - 999\n",
    "df[\"Type\"] = df[\"BidVolume_0\"] * 0\n",
    "df[\"Sign\"] = df[\"Type\"]\n",
    "df[\"Price\"] = df[\"Type\"]\n",
    "df[\"Volume\"] = df[\"Type\"]"
   ]
  },
  {
   "cell_type": "code",
   "execution_count": 3,
   "id": "a6d1e598",
   "metadata": {},
   "outputs": [],
   "source": [
    "# Load trades\n",
    "DIR_1 = \"../data/energia/trade_ottobre2021_nuovo/trade_ottobre2021/\"\n",
    "filepath = os.path.abspath(DIR_1) + \"/\"\n",
    "files = os.listdir(filepath)\n",
    "lst_df = []\n",
    "\n",
    "# Open all the files in the folder and concatenate them\n",
    "for file in files:\n",
    "     lst_df.append(match.load_trade_data(DIR_1 + file, start_month = True))\n",
    "df_t = pd.concat(lst_df)\n",
    "df_t.reset_index(inplace = True, drop = True)"
   ]
  },
  {
   "cell_type": "code",
   "execution_count": 4,
   "id": "cf7d057f",
   "metadata": {},
   "outputs": [
    {
     "name": "stdout",
     "output_type": "stream",
     "text": [
      "Cleaning data...\n",
      "\n",
      "Modifying update orders...\n",
      "\n",
      "Cleaning data...\n",
      "\n",
      "Modifying update orders...\n",
      "\n",
      "Cleaning data...\n",
      "\n",
      "Matching orders...\n",
      "Number of orders without match : 1781, out of : 10293\n"
     ]
    }
   ],
   "source": [
    "# Differentiate LO cancellations and updates\n",
    "match.clean_data(df)\n",
    "# Model updates as a cancellation and a LO\n",
    "df_1 = match.update_df(df)\n",
    "# Repeat the process once again\n",
    "match.clean_data(df_1)\n",
    "df_2 = match.update_df(df_1)\n",
    "match.clean_data(df_2)\n",
    "# Delete orders done outside the 10 best quotes of the bid and the ask\n",
    "df_2 = df_2[df_2[\"Quote\"] != -999]\n",
    "df_2.reset_index(inplace = True, drop = True)\n",
    "# Differentiate cancellations and MO\n",
    "matched_data = match.matching(df_2, df_t, criterion = \"best matching\", time_interval = 4)\n",
    "matched_data.to_csv(\"../data/energia/order/new_best.csv\")"
   ]
  }
 ],
 "metadata": {
  "kernelspec": {
   "display_name": "Python 3",
   "language": "python",
   "name": "python3"
  },
  "language_info": {
   "codemirror_mode": {
    "name": "ipython",
    "version": 3
   },
   "file_extension": ".py",
   "mimetype": "text/x-python",
   "name": "python",
   "nbconvert_exporter": "python",
   "pygments_lexer": "ipython3",
   "version": "3.8.8"
  }
 },
 "nbformat": 4,
 "nbformat_minor": 5
}
