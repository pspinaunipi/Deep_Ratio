{
 "cells": [
  {
   "cell_type": "code",
   "execution_count": 1,
   "id": "611ae8f3",
   "metadata": {},
   "outputs": [],
   "source": [
    "import pandas as pd\n",
    "import sys, os\n",
    "sys.path.append(\"../main/\")\n",
    "import match\n",
    "import ZI\n",
    "import matplotlib.pyplot as plt"
   ]
  },
  {
   "cell_type": "markdown",
   "id": "5cd9da32",
   "metadata": {},
   "source": [
    "# Cleaning data\n",
    "\n",
    "Per poter simulare il LOB tramite tramite il modello ZI ho bisogno delle seguenti informazioni:\n",
    "\n",
    "1. Tipo di ogni ordine nel book.\n",
    "2. Quota a cui è avvenuto ogni ordine.\n",
    "3. Volume di ogni ordine.\n",
    "\n",
    "In aggiunta per il modello MTY ho bisogno anche del:\n",
    "\n",
    "4. Prezzo di ogni ordine.\n",
    "5. Segno di ogni ordine.\n",
    "\n",
    "Purtroppo queste informazioni non sono disponibili, in quanto ho solamente un dataframe con lo stato del LOB alle 10 migliori quote del bid e dell'ask e un dataframe con le informazioni di sopra relative solamente ai trades.\n",
    "\n",
    "Queste informazioni però possono essere direttamente ricavate dallo stato del book.\n",
    "\n",
    "Per prima cosa carico il LOB relativo ad un giorno di trading per ELE-GER attraverso la funzione load_data della libreria match:"
   ]
  },
  {
   "cell_type": "markdown",
   "id": "c7299982",
   "metadata": {},
   "source": [
    "### Input\n",
    "\n",
    "1. filepath: str\n",
    "    - Path assoluto del file .csv da aprire\n",
    "2. del_time: [True, False]  (default = False)\n",
    "    - Se True elimina la prima e ultima ora di trading dal dataframe.\n",
    "3. del_spread: [True, False] (default = False)\n",
    "    - Se True elimina dal LOB tutti gli stati in cui risulta che lo spread è <= 0\n",
    "4. start_month: [True,False] (default = False)\n",
    "    - Se True aggiunge una colonna con i secondi passati dall'inizion del mese (Per fare matching degli ordini è fondamentale che start_month sia True)."
   ]
  },
  {
   "cell_type": "markdown",
   "id": "0bf66048",
   "metadata": {},
   "source": [
    "### Output\n",
    "\n",
    "1. df: pd.DataFrame\n",
    "    - DataFrame dello stato del LOB.\n"
   ]
  },
  {
   "cell_type": "code",
   "execution_count": 2,
   "id": "5e77851a",
   "metadata": {
    "scrolled": true
   },
   "outputs": [],
   "source": [
    "# carica dataframe LOB del 01/10/2021\n",
    "DIR = \"../data/energia/LOB_ottobre21/LOB_ottobre21/LOB_Germany_Baseload_2022_20211001.csv\"\n",
    "# per funzionare correttamente devo utilizzare l'absolute path\n",
    "filepath = os.path.abspath(DIR)\n",
    "df_o = match.load_data(filepath, start_month = True)"
   ]
  },
  {
   "cell_type": "code",
   "execution_count": 3,
   "id": "28abb802",
   "metadata": {
    "scrolled": true
   },
   "outputs": [
    {
     "data": {
      "text/html": [
       "<div>\n",
       "<style scoped>\n",
       "    .dataframe tbody tr th:only-of-type {\n",
       "        vertical-align: middle;\n",
       "    }\n",
       "\n",
       "    .dataframe tbody tr th {\n",
       "        vertical-align: top;\n",
       "    }\n",
       "\n",
       "    .dataframe thead th {\n",
       "        text-align: right;\n",
       "    }\n",
       "</style>\n",
       "<table border=\"1\" class=\"dataframe\">\n",
       "  <thead>\n",
       "    <tr style=\"text-align: right;\">\n",
       "      <th></th>\n",
       "      <th>Datetime</th>\n",
       "      <th>BidPrice_0</th>\n",
       "      <th>BidVolume_0</th>\n",
       "      <th>AskPrice_0</th>\n",
       "      <th>AskVolume_0</th>\n",
       "      <th>BidPrice_1</th>\n",
       "      <th>BidVolume_1</th>\n",
       "      <th>AskPrice_1</th>\n",
       "      <th>AskVolume_1</th>\n",
       "      <th>BidPrice_2</th>\n",
       "      <th>...</th>\n",
       "      <th>BidVolume_8</th>\n",
       "      <th>AskPrice_8</th>\n",
       "      <th>AskVolume_8</th>\n",
       "      <th>BidPrice_9</th>\n",
       "      <th>BidVolume_9</th>\n",
       "      <th>AskPrice_9</th>\n",
       "      <th>AskVolume_9</th>\n",
       "      <th>MidPrice</th>\n",
       "      <th>Spread</th>\n",
       "      <th>Seconds</th>\n",
       "    </tr>\n",
       "  </thead>\n",
       "  <tbody>\n",
       "    <tr>\n",
       "      <th>0</th>\n",
       "      <td>2021-10-01 06:00:01.630</td>\n",
       "      <td>10850.0</td>\n",
       "      <td>1.0</td>\n",
       "      <td>14000.0</td>\n",
       "      <td>1.0</td>\n",
       "      <td>5200.0</td>\n",
       "      <td>1.0</td>\n",
       "      <td>0.0</td>\n",
       "      <td>0.0</td>\n",
       "      <td>4800.0</td>\n",
       "      <td>...</td>\n",
       "      <td>0.0</td>\n",
       "      <td>0.0</td>\n",
       "      <td>0.0</td>\n",
       "      <td>0.0</td>\n",
       "      <td>0.0</td>\n",
       "      <td>0.0</td>\n",
       "      <td>0.0</td>\n",
       "      <td>12425.0</td>\n",
       "      <td>3150.0</td>\n",
       "      <td>21601.630</td>\n",
       "    </tr>\n",
       "    <tr>\n",
       "      <th>1</th>\n",
       "      <td>2021-10-01 06:00:19.222</td>\n",
       "      <td>10850.0</td>\n",
       "      <td>1.0</td>\n",
       "      <td>14000.0</td>\n",
       "      <td>1.0</td>\n",
       "      <td>9380.0</td>\n",
       "      <td>1.0</td>\n",
       "      <td>0.0</td>\n",
       "      <td>0.0</td>\n",
       "      <td>5200.0</td>\n",
       "      <td>...</td>\n",
       "      <td>0.0</td>\n",
       "      <td>0.0</td>\n",
       "      <td>0.0</td>\n",
       "      <td>0.0</td>\n",
       "      <td>0.0</td>\n",
       "      <td>0.0</td>\n",
       "      <td>0.0</td>\n",
       "      <td>12425.0</td>\n",
       "      <td>3150.0</td>\n",
       "      <td>21619.222</td>\n",
       "    </tr>\n",
       "    <tr>\n",
       "      <th>2</th>\n",
       "      <td>2021-10-01 06:02:37.526</td>\n",
       "      <td>13000.0</td>\n",
       "      <td>1.0</td>\n",
       "      <td>14000.0</td>\n",
       "      <td>1.0</td>\n",
       "      <td>10850.0</td>\n",
       "      <td>1.0</td>\n",
       "      <td>0.0</td>\n",
       "      <td>0.0</td>\n",
       "      <td>9380.0</td>\n",
       "      <td>...</td>\n",
       "      <td>0.0</td>\n",
       "      <td>0.0</td>\n",
       "      <td>0.0</td>\n",
       "      <td>0.0</td>\n",
       "      <td>0.0</td>\n",
       "      <td>0.0</td>\n",
       "      <td>0.0</td>\n",
       "      <td>13500.0</td>\n",
       "      <td>1000.0</td>\n",
       "      <td>21757.526</td>\n",
       "    </tr>\n",
       "    <tr>\n",
       "      <th>3</th>\n",
       "      <td>2021-10-01 06:03:29.627</td>\n",
       "      <td>13000.0</td>\n",
       "      <td>1.0</td>\n",
       "      <td>14000.0</td>\n",
       "      <td>2.0</td>\n",
       "      <td>10850.0</td>\n",
       "      <td>1.0</td>\n",
       "      <td>0.0</td>\n",
       "      <td>0.0</td>\n",
       "      <td>9380.0</td>\n",
       "      <td>...</td>\n",
       "      <td>0.0</td>\n",
       "      <td>0.0</td>\n",
       "      <td>0.0</td>\n",
       "      <td>0.0</td>\n",
       "      <td>0.0</td>\n",
       "      <td>0.0</td>\n",
       "      <td>0.0</td>\n",
       "      <td>13500.0</td>\n",
       "      <td>1000.0</td>\n",
       "      <td>21809.627</td>\n",
       "    </tr>\n",
       "    <tr>\n",
       "      <th>4</th>\n",
       "      <td>2021-10-01 06:03:56.548</td>\n",
       "      <td>13000.0</td>\n",
       "      <td>1.0</td>\n",
       "      <td>13900.0</td>\n",
       "      <td>1.0</td>\n",
       "      <td>10850.0</td>\n",
       "      <td>1.0</td>\n",
       "      <td>14000.0</td>\n",
       "      <td>1.0</td>\n",
       "      <td>9380.0</td>\n",
       "      <td>...</td>\n",
       "      <td>0.0</td>\n",
       "      <td>0.0</td>\n",
       "      <td>0.0</td>\n",
       "      <td>0.0</td>\n",
       "      <td>0.0</td>\n",
       "      <td>0.0</td>\n",
       "      <td>0.0</td>\n",
       "      <td>13450.0</td>\n",
       "      <td>900.0</td>\n",
       "      <td>21836.548</td>\n",
       "    </tr>\n",
       "  </tbody>\n",
       "</table>\n",
       "<p>5 rows × 44 columns</p>\n",
       "</div>"
      ],
      "text/plain": [
       "                 Datetime  BidPrice_0  BidVolume_0  AskPrice_0  AskVolume_0  \\\n",
       "0 2021-10-01 06:00:01.630     10850.0          1.0     14000.0          1.0   \n",
       "1 2021-10-01 06:00:19.222     10850.0          1.0     14000.0          1.0   \n",
       "2 2021-10-01 06:02:37.526     13000.0          1.0     14000.0          1.0   \n",
       "3 2021-10-01 06:03:29.627     13000.0          1.0     14000.0          2.0   \n",
       "4 2021-10-01 06:03:56.548     13000.0          1.0     13900.0          1.0   \n",
       "\n",
       "   BidPrice_1  BidVolume_1  AskPrice_1  AskVolume_1  BidPrice_2  ...  \\\n",
       "0      5200.0          1.0         0.0          0.0      4800.0  ...   \n",
       "1      9380.0          1.0         0.0          0.0      5200.0  ...   \n",
       "2     10850.0          1.0         0.0          0.0      9380.0  ...   \n",
       "3     10850.0          1.0         0.0          0.0      9380.0  ...   \n",
       "4     10850.0          1.0     14000.0          1.0      9380.0  ...   \n",
       "\n",
       "   BidVolume_8  AskPrice_8  AskVolume_8  BidPrice_9  BidVolume_9  AskPrice_9  \\\n",
       "0          0.0         0.0          0.0         0.0          0.0         0.0   \n",
       "1          0.0         0.0          0.0         0.0          0.0         0.0   \n",
       "2          0.0         0.0          0.0         0.0          0.0         0.0   \n",
       "3          0.0         0.0          0.0         0.0          0.0         0.0   \n",
       "4          0.0         0.0          0.0         0.0          0.0         0.0   \n",
       "\n",
       "   AskVolume_9  MidPrice  Spread    Seconds  \n",
       "0          0.0   12425.0  3150.0  21601.630  \n",
       "1          0.0   12425.0  3150.0  21619.222  \n",
       "2          0.0   13500.0  1000.0  21757.526  \n",
       "3          0.0   13500.0  1000.0  21809.627  \n",
       "4          0.0   13450.0   900.0  21836.548  \n",
       "\n",
       "[5 rows x 44 columns]"
      ]
     },
     "execution_count": 3,
     "metadata": {},
     "output_type": "execute_result"
    }
   ],
   "source": [
    "df_o.head()"
   ]
  },
  {
   "cell_type": "markdown",
   "id": "9b410e59",
   "metadata": {},
   "source": [
    "Sia per il modello MTY che per il modello ZI l'order-flow è composto da 3 processi:\n",
    "\n",
    "1. Limit Order (LO)\n",
    "2. Market Order (MO)\n",
    "3. Cancellazioni (C)\n",
    "\n",
    "Nel LOB relativo ai dati energetici è presente anche un altro tipo di ordine:\n",
    "\n",
    "4. Update (UP)\n",
    "\n",
    "Un trader che ha piazzato un LO può decidere di aumentare o abbassare il prezzo del proprio LO, esempio:\n",
    "\n"
   ]
  },
  {
   "cell_type": "code",
   "execution_count": 4,
   "id": "1d3f01d5",
   "metadata": {
    "scrolled": true
   },
   "outputs": [
    {
     "data": {
      "text/html": [
       "<div>\n",
       "<style scoped>\n",
       "    .dataframe tbody tr th:only-of-type {\n",
       "        vertical-align: middle;\n",
       "    }\n",
       "\n",
       "    .dataframe tbody tr th {\n",
       "        vertical-align: top;\n",
       "    }\n",
       "\n",
       "    .dataframe thead th {\n",
       "        text-align: right;\n",
       "    }\n",
       "</style>\n",
       "<table border=\"1\" class=\"dataframe\">\n",
       "  <thead>\n",
       "    <tr style=\"text-align: right;\">\n",
       "      <th></th>\n",
       "      <th>BidPrice_0</th>\n",
       "      <th>BidPrice_1</th>\n",
       "    </tr>\n",
       "  </thead>\n",
       "  <tbody>\n",
       "    <tr>\n",
       "      <th>12</th>\n",
       "      <td>12000.0</td>\n",
       "      <td>11997.0</td>\n",
       "    </tr>\n",
       "    <tr>\n",
       "      <th>13</th>\n",
       "      <td>12500.0</td>\n",
       "      <td>11997.0</td>\n",
       "    </tr>\n",
       "  </tbody>\n",
       "</table>\n",
       "</div>"
      ],
      "text/plain": [
       "    BidPrice_0  BidPrice_1\n",
       "12     12000.0     11997.0\n",
       "13     12500.0     11997.0"
      ]
     },
     "execution_count": 4,
     "metadata": {},
     "output_type": "execute_result"
    }
   ],
   "source": [
    "df_o.loc[12:13, [\"BidPrice_0\", \"BidPrice_1\"]]"
   ]
  },
  {
   "cell_type": "markdown",
   "id": "dbcccaed",
   "metadata": {},
   "source": [
    "Come si può vedere nella cella di sopra il prezzo dell'ordine alla migliore quota del bid è aumentato di 5€, mentre il prezzo dell'ordine alla seconda migliore quota è rimasto uguale.\n",
    "\n",
    "Questo significa che questo ordine deve per forza essere un updarte, perché se si fosse trattato realmente di un nuovo LO il BidPrice_1 sarebbe dovuto essere 120€.\n",
    "\n",
    "A questo punto prima di andare avanti bisogna per prima cosa trovare tutti gli update e poi bisogna modellizzarli come una cancellazione + un LO.\n",
    "\n",
    "Per trovare tutti gli update ho utilizzato la funzione clean_data:"
   ]
  },
  {
   "cell_type": "markdown",
   "id": "fabe60e5",
   "metadata": {},
   "source": [
    "### Input\n",
    "\n",
    "1. df: pd.DataFrame\n",
    "    - Dataframe contenente lo stato del book alle 10 migliori quote dell'ask e del bid. \n",
    "    - E' importante che il DataFrame contenga anche le seguenti colonne: [\"Quote\", \"Type\", \"Sign\",\"Price\", \"Volume\"]"
   ]
  },
  {
   "cell_type": "markdown",
   "id": "d6e4fcf8",
   "metadata": {},
   "source": [
    "### Output\n",
    "1. None\n",
    "\n",
    "\n",
    "Al DataFrame di partenza vengono però aggiunte le seguenti informazioni:\n",
    "\n",
    "1. Volume degli ordini.\n",
    "2. Prezzo degli ordini.\n",
    "3. Segno dell'ordine.\n",
    "4. Quota a cui è stato fatto l'ordine.\n",
    "5. Il tipo di ordine:\n",
    "    - 0.0: Ordine eseguito al di fuori delle 10 migliori quote dell'ask e del bid\n",
    "    - Limit: Limit order.\n",
    "    - Market/Cancel: Ordine che può essere sia un trade che una cancellazione.\n",
    "    - Canc/Update: Update in cui è stato aumentato il prezzo dell'ordine.\n",
    "    - Lim/Update: Update in cui è stato abbassato il prezzo dell'ordine."
   ]
  },
  {
   "cell_type": "code",
   "execution_count": 5,
   "id": "5490113a",
   "metadata": {
    "scrolled": true
   },
   "outputs": [
    {
     "name": "stdout",
     "output_type": "stream",
     "text": [
      "Cleaning data...\n",
      "\n",
      "Tipo di ordini nel DataFrame dopo il processo di cleaning:\n"
     ]
    },
    {
     "data": {
      "text/plain": [
       "Limit            4584\n",
       "Market/Cancel    4376\n",
       "Lim/Update       1492\n",
       "0.0              1139\n",
       "Canc/Update       619\n",
       "Name: Type, dtype: int64"
      ]
     },
     "execution_count": 5,
     "metadata": {},
     "output_type": "execute_result"
    }
   ],
   "source": [
    "# Aggiungo le seguenti quote al dataframe degli ordini:\n",
    "# 1. Quote, 2.Type, 3. Sign, 4.Volume, 5.Price\n",
    "\n",
    "df_o[\"Quote\"] = df_o[\"BidVolume_0\"] * 0 - 999\n",
    "df_o[\"Type\"] = df_o[\"BidVolume_0\"] * 0\n",
    "df_o[\"Sign\"] = df_o[\"Type\"]\n",
    "df_o[\"Price\"] = df_o[\"Type\"]\n",
    "df_o[\"Volume\"] = df_o[\"Type\"]\n",
    "\n",
    "# Pulisco dati \n",
    "match.clean_data(df_o)\n",
    "\n",
    "# Printo il tipo di ordini\n",
    "print(\"Tipo di ordini nel DataFrame dopo il processo di cleaning:\")\n",
    "df_o[\"Type\"].value_counts()"
   ]
  },
  {
   "cell_type": "markdown",
   "id": "c2c4b68b",
   "metadata": {},
   "source": [
    "A questo punto dopo aver trovato tutti gli update li modellizzo come una cancellazione + un LO, utilizzando la funzione update_df:"
   ]
  },
  {
   "cell_type": "markdown",
   "id": "ef4898d7",
   "metadata": {},
   "source": [
    "### Input\n",
    "\n",
    "1. df: pd.DataFrame\n",
    "    - DataFrame \"pulito\" con la funzione clean_data."
   ]
  },
  {
   "cell_type": "markdown",
   "id": "864fa0bd",
   "metadata": {},
   "source": [
    "### Output\n",
    "1. final_df: pd.DataFrame\n",
    "    - DataFrame in cui ogni update è stato modellizzato come una cancellazione + un LO."
   ]
  },
  {
   "cell_type": "code",
   "execution_count": 6,
   "id": "e3e09ef6",
   "metadata": {
    "scrolled": true
   },
   "outputs": [
    {
     "name": "stdout",
     "output_type": "stream",
     "text": [
      "Modifying update orders...\n",
      "\n"
     ]
    }
   ],
   "source": [
    "df_1 = match.update_df(df_o)"
   ]
  },
  {
   "cell_type": "markdown",
   "id": "3497200c",
   "metadata": {},
   "source": [
    "Per capire bene cosa fa la funzione update_df riprendo come esempio le righe 12-13 del DataFrame originale:"
   ]
  },
  {
   "cell_type": "code",
   "execution_count": 7,
   "id": "c7f7c064",
   "metadata": {
    "scrolled": true
   },
   "outputs": [
    {
     "data": {
      "text/html": [
       "<div>\n",
       "<style scoped>\n",
       "    .dataframe tbody tr th:only-of-type {\n",
       "        vertical-align: middle;\n",
       "    }\n",
       "\n",
       "    .dataframe tbody tr th {\n",
       "        vertical-align: top;\n",
       "    }\n",
       "\n",
       "    .dataframe thead th {\n",
       "        text-align: right;\n",
       "    }\n",
       "</style>\n",
       "<table border=\"1\" class=\"dataframe\">\n",
       "  <thead>\n",
       "    <tr style=\"text-align: right;\">\n",
       "      <th></th>\n",
       "      <th>BidPrice_0</th>\n",
       "      <th>BidPrice_1</th>\n",
       "    </tr>\n",
       "  </thead>\n",
       "  <tbody>\n",
       "    <tr>\n",
       "      <th>12</th>\n",
       "      <td>12000.0</td>\n",
       "      <td>11997.0</td>\n",
       "    </tr>\n",
       "    <tr>\n",
       "      <th>13</th>\n",
       "      <td>12500.0</td>\n",
       "      <td>11997.0</td>\n",
       "    </tr>\n",
       "  </tbody>\n",
       "</table>\n",
       "</div>"
      ],
      "text/plain": [
       "    BidPrice_0  BidPrice_1\n",
       "12     12000.0     11997.0\n",
       "13     12500.0     11997.0"
      ]
     },
     "execution_count": 7,
     "metadata": {},
     "output_type": "execute_result"
    }
   ],
   "source": [
    "df_o.loc[12:13, [\"BidPrice_0\", \"BidPrice_1\"]]"
   ]
  },
  {
   "cell_type": "markdown",
   "id": "23fed793",
   "metadata": {},
   "source": [
    "Tra la riga 12 e la riga 13 manca una cancellazione. Quello che fa la funzione update_df in questo caso è cancellare dapprima l'ordine da 120€ per poi piazzare un LO di 125€: "
   ]
  },
  {
   "cell_type": "code",
   "execution_count": 8,
   "id": "b9fa6aee",
   "metadata": {},
   "outputs": [
    {
     "data": {
      "text/html": [
       "<div>\n",
       "<style scoped>\n",
       "    .dataframe tbody tr th:only-of-type {\n",
       "        vertical-align: middle;\n",
       "    }\n",
       "\n",
       "    .dataframe tbody tr th {\n",
       "        vertical-align: top;\n",
       "    }\n",
       "\n",
       "    .dataframe thead th {\n",
       "        text-align: right;\n",
       "    }\n",
       "</style>\n",
       "<table border=\"1\" class=\"dataframe\">\n",
       "  <thead>\n",
       "    <tr style=\"text-align: right;\">\n",
       "      <th></th>\n",
       "      <th>BidPrice_0</th>\n",
       "      <th>BidPrice_1</th>\n",
       "    </tr>\n",
       "  </thead>\n",
       "  <tbody>\n",
       "    <tr>\n",
       "      <th>12</th>\n",
       "      <td>12000.0</td>\n",
       "      <td>11997.0</td>\n",
       "    </tr>\n",
       "    <tr>\n",
       "      <th>13</th>\n",
       "      <td>11997.0</td>\n",
       "      <td>11994.0</td>\n",
       "    </tr>\n",
       "    <tr>\n",
       "      <th>14</th>\n",
       "      <td>12500.0</td>\n",
       "      <td>11997.0</td>\n",
       "    </tr>\n",
       "  </tbody>\n",
       "</table>\n",
       "</div>"
      ],
      "text/plain": [
       "    BidPrice_0  BidPrice_1\n",
       "12     12000.0     11997.0\n",
       "13     11997.0     11994.0\n",
       "14     12500.0     11997.0"
      ]
     },
     "execution_count": 8,
     "metadata": {},
     "output_type": "execute_result"
    }
   ],
   "source": [
    "df_1.loc[12:14, [\"BidPrice_0\", \"BidPrice_1\"]]"
   ]
  },
  {
   "cell_type": "markdown",
   "id": "aeb44137",
   "metadata": {
    "scrolled": true
   },
   "source": [
    "A questo punto riutilizzo la funzione clean data per calcolare il prezzo, volume, segno, quota e tipo di ogni ordine."
   ]
  },
  {
   "cell_type": "code",
   "execution_count": 9,
   "id": "00b42eb8",
   "metadata": {
    "scrolled": true
   },
   "outputs": [
    {
     "name": "stdout",
     "output_type": "stream",
     "text": [
      "Cleaning data...\n",
      "\n",
      "Tipo di ordini nel DataFrame dopo il processo di cleaning:\n"
     ]
    },
    {
     "data": {
      "text/plain": [
       "Limit            6698\n",
       "Market/Cancel    6484\n",
       "0.0              1139\n",
       "Name: Type, dtype: int64"
      ]
     },
     "execution_count": 9,
     "metadata": {},
     "output_type": "execute_result"
    }
   ],
   "source": [
    "# Pulisco dati \n",
    "match.clean_data(df_1)\n",
    "\n",
    "# Printo il tipo di ordini\n",
    "print(\"Tipo di ordini nel DataFrame dopo il processo di cleaning:\")\n",
    "df_1[\"Type\"].value_counts()"
   ]
  },
  {
   "cell_type": "markdown",
   "id": "b973a9c7",
   "metadata": {},
   "source": [
    "L'ultima cosa da fare è differenziare le cancellazioni dai MO. \n",
    "Per prima cosa importo il DataFrame con le informazioni relative ai trades attraverso la funzione load_trade_data:\n"
   ]
  },
  {
   "cell_type": "markdown",
   "id": "20167d6b",
   "metadata": {},
   "source": [
    "### Input\n",
    "\n",
    "1. filepath: str\n",
    "    - Path assoluto del file .csv da aprire\n",
    "4. start_month: [True,False] (default = False)\n",
    "    - Se True aggiunge una colonna con i secondi passati dall'inizion del mese (Per fare matching degli ordini è fondamentale che start_month sia True)."
   ]
  },
  {
   "cell_type": "markdown",
   "id": "b237b4b9",
   "metadata": {},
   "source": [
    "### Output\n",
    "\n",
    "1. df: pd.DataFrame\n",
    "    - DataFrame contenente le informazioni relative ai trades."
   ]
  },
  {
   "cell_type": "code",
   "execution_count": 10,
   "id": "0f92f333",
   "metadata": {
    "scrolled": true
   },
   "outputs": [
    {
     "data": {
      "text/html": [
       "<div>\n",
       "<style scoped>\n",
       "    .dataframe tbody tr th:only-of-type {\n",
       "        vertical-align: middle;\n",
       "    }\n",
       "\n",
       "    .dataframe tbody tr th {\n",
       "        vertical-align: top;\n",
       "    }\n",
       "\n",
       "    .dataframe thead th {\n",
       "        text-align: right;\n",
       "    }\n",
       "</style>\n",
       "<table border=\"1\" class=\"dataframe\">\n",
       "  <thead>\n",
       "    <tr style=\"text-align: right;\">\n",
       "      <th></th>\n",
       "      <th>DateTime</th>\n",
       "      <th>Action</th>\n",
       "      <th>Volume</th>\n",
       "      <th>Price</th>\n",
       "      <th>AggressorAction</th>\n",
       "      <th>AggressorBroker</th>\n",
       "      <th>Seconds</th>\n",
       "    </tr>\n",
       "  </thead>\n",
       "  <tbody>\n",
       "    <tr>\n",
       "      <th>0</th>\n",
       "      <td>2021-10-01 06:26:39+00:00</td>\n",
       "      <td>Insert</td>\n",
       "      <td>1.0</td>\n",
       "      <td>13040.0</td>\n",
       "      <td>Sell</td>\n",
       "      <td>EEX</td>\n",
       "      <td>23199.000</td>\n",
       "    </tr>\n",
       "    <tr>\n",
       "      <th>1</th>\n",
       "      <td>2021-10-01 06:28:56+00:00</td>\n",
       "      <td>Insert</td>\n",
       "      <td>1.0</td>\n",
       "      <td>13150.0</td>\n",
       "      <td>Sell</td>\n",
       "      <td>EEX</td>\n",
       "      <td>23336.000</td>\n",
       "    </tr>\n",
       "    <tr>\n",
       "      <th>2</th>\n",
       "      <td>2021-10-01 06:33:56.257000+00:00</td>\n",
       "      <td>Update</td>\n",
       "      <td>1.0</td>\n",
       "      <td>13155.0</td>\n",
       "      <td>Sell</td>\n",
       "      <td>Tradition</td>\n",
       "      <td>23636.257</td>\n",
       "    </tr>\n",
       "    <tr>\n",
       "      <th>3</th>\n",
       "      <td>2021-10-01 06:34:09.287000+00:00</td>\n",
       "      <td>Update</td>\n",
       "      <td>1.0</td>\n",
       "      <td>13150.0</td>\n",
       "      <td>Sell</td>\n",
       "      <td>Griffin Markets Europe SAS</td>\n",
       "      <td>23649.287</td>\n",
       "    </tr>\n",
       "    <tr>\n",
       "      <th>4</th>\n",
       "      <td>2021-10-01 06:35:01+00:00</td>\n",
       "      <td>Insert</td>\n",
       "      <td>1.0</td>\n",
       "      <td>13065.0</td>\n",
       "      <td>Sell</td>\n",
       "      <td>EEX</td>\n",
       "      <td>23701.000</td>\n",
       "    </tr>\n",
       "  </tbody>\n",
       "</table>\n",
       "</div>"
      ],
      "text/plain": [
       "                          DateTime  Action  Volume    Price AggressorAction  \\\n",
       "0        2021-10-01 06:26:39+00:00  Insert     1.0  13040.0            Sell   \n",
       "1        2021-10-01 06:28:56+00:00  Insert     1.0  13150.0            Sell   \n",
       "2 2021-10-01 06:33:56.257000+00:00  Update     1.0  13155.0            Sell   \n",
       "3 2021-10-01 06:34:09.287000+00:00  Update     1.0  13150.0            Sell   \n",
       "4        2021-10-01 06:35:01+00:00  Insert     1.0  13065.0            Sell   \n",
       "\n",
       "              AggressorBroker    Seconds  \n",
       "0                         EEX  23199.000  \n",
       "1                         EEX  23336.000  \n",
       "2                   Tradition  23636.257  \n",
       "3  Griffin Markets Europe SAS  23649.287  \n",
       "4                         EEX  23701.000  "
      ]
     },
     "execution_count": 10,
     "metadata": {},
     "output_type": "execute_result"
    }
   ],
   "source": [
    "# carica dataframe trade del 01/10/2021\n",
    "DIR_1 = \"../data/energia/trade_ottobre2021_nuovo/trade_ottobre2021/trades_Germany_Baseload_2022_20211001.csv\"\n",
    "filepath = os.path.abspath(DIR_1)\n",
    "df_t = match.load_trade_data(filepath, start_month = True)\n",
    "df_t.head()"
   ]
  },
  {
   "cell_type": "markdown",
   "id": "0cab8b62",
   "metadata": {},
   "source": [
    "Infine per fare il match degli ordini utilizzo la funzione matching:\n",
    "\n",
    "### Input\n",
    "\n",
    "1. order_df: pd.DataFrame\n",
    "    - DataFrame degli ordini pulito con la funzione clean_data.\n",
    "2. trade_df: pd.DataFrame\n",
    "    - DataFrame dei trades.\n",
    "3. criterion: {time\", \"time price volume sign\", \"time price volume\", \"time price\", \"time volume\",\n",
    "    \"time sign\", \"time price sign\", \"time volume sign\", \"best matching\"} (default = \"time\"):\n",
    "    - Criterio considerato per fare matching.\n",
    "4. time_interval: int (default = 5)\n",
    "    - Considero come candidati per il matching tutti gli ordini in un intervallo di +- time interval secondi da un trade.\n",
    "    \n",
    "### Output\n",
    "1. match_df: pd.DataFrame\n",
    "    - DataFrame in cui ho differenziato trades e cancellazioni."
   ]
  },
  {
   "cell_type": "code",
   "execution_count": 11,
   "id": "8ee843fc",
   "metadata": {
    "scrolled": true
   },
   "outputs": [
    {
     "name": "stdout",
     "output_type": "stream",
     "text": [
      "Matching orders...\n",
      "Number of orders without match : 226, out of : 743\n"
     ]
    }
   ],
   "source": [
    "matched_data = match.matching(df_1, df_t, criterion = \"time price sign\", time_interval = 4)"
   ]
  },
  {
   "cell_type": "code",
   "execution_count": 12,
   "id": "3cf25254",
   "metadata": {},
   "outputs": [
    {
     "data": {
      "text/plain": [
       "Limit     6698\n",
       "Cancel    5999\n",
       "0.0       1139\n",
       "Market     485\n",
       "Name: Type, dtype: int64"
      ]
     },
     "execution_count": 12,
     "metadata": {},
     "output_type": "execute_result"
    }
   ],
   "source": [
    "matched_data[\"Type\"].value_counts()"
   ]
  }
 ],
 "metadata": {
  "kernelspec": {
   "display_name": "Python 3",
   "language": "python",
   "name": "python3"
  },
  "language_info": {
   "codemirror_mode": {
    "name": "ipython",
    "version": 3
   },
   "file_extension": ".py",
   "mimetype": "text/x-python",
   "name": "python",
   "nbconvert_exporter": "python",
   "pygments_lexer": "ipython3",
   "version": "3.8.8"
  }
 },
 "nbformat": 4,
 "nbformat_minor": 5
}
