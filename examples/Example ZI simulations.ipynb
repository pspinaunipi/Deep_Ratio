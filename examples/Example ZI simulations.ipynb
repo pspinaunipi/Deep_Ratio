{
 "cells": [
  {
   "cell_type": "code",
   "execution_count": 22,
   "id": "c9fafe4b",
   "metadata": {},
   "outputs": [],
   "source": [
    "import sys, os\n",
    "sys.path.append(\"../main\")\n",
    "import ZI\n",
    "import matplotlib.pyplot as plt\n",
    "import numpy as np\n",
    "import pandas as pd\n",
    "\n",
    "plt.style.use('dark_background')"
   ]
  },
  {
   "cell_type": "markdown",
   "id": "d68287b3",
   "metadata": {},
   "source": [
    "# Esempio\n",
    "\n",
    "Per prima cosa carico il dataframe ottenuto attraverso il notebook clean data."
   ]
  },
  {
   "cell_type": "code",
   "execution_count": 23,
   "id": "1c7ed05f",
   "metadata": {},
   "outputs": [],
   "source": [
    "df = ZI.load_LOB_data(\"../data/energia/order/new_best.csv\")\n",
    "# Considero solamente gli lo stato del book nel giorno 01/10/2021\n",
    "df = df[df[\"Datetime\"].dt.day == 1]"
   ]
  },
  {
   "cell_type": "markdown",
   "id": "e1f9b3e1",
   "metadata": {},
   "source": [
    "Dopo aver caricato i dati devo calcolare il valore dei parametri $\\lambda$, $\\mu$ e $\\delta$, ovvero i rate di arrivo dei LO, MO e cancellazioni.\n",
    "\n",
    "Per calcolarli seguo la procedura presentata nel libro di Buchad.\n",
    "\n",
    "Chiamati:\n",
    "- $X_{LO}$ l'insieme dei LO piazzati al best price o all'interno dello spread.\n",
    "- $X_{MO}$ l'insieme dei MO.\n",
    "- $X_C$ l'insieme delle cancellazioni avvenute al best bid o best ask.\n",
    "\n",
    "e definiti $N_{LO}$, $N_{MO}$ e $N_C$ come il numero totale di ordini negli insiemi precedenti, i parametri del processo ZI possono essere stimati nella maniera seguente:\n",
    "\n",
    "- Il volume degli ordini è:\n",
    "    $$v_0 = \\frac{1}{N_{LO}}\\sum_{x \\in X_{LO}}v_x$$\n",
    "- Il rate di arrivo dei MO è:\n",
    "    $$2\\hat{\\mu} = \\frac{1}{N_{LO} + N_{MO} + N_C} \\sum_{x \\in X_{MO}} \\frac{v_x}{v_0}$$\n",
    "- Il rate totale di arrivo dei LO è:\n",
    "    $$ 2\\hat{\\lambda}_{all} = \\frac{N_{LO}}{N_{LO} + N_{MO} + N_C}$$\n",
    "    (per ottenere il rate di arrivo per ogni livello di prezzo va poi diviso per lo spread medio)\n",
    "- Il rate delle cancellazioni è:\n",
    "    $$  2\\hat{\\delta} = \\frac{1}{N_{LO} + N_{MO} + N_C} \\sum_{x \\in X_C} \\frac{v_x}{ \\bar{V}} $$\n",
    "    con:\n",
    "    $$ \\bar{V} \\equiv \\frac{\\bar{V_a} + \\bar{V_b}}{2} $$\n",
    "    (Volume medio alle migliori quote)"
   ]
  },
  {
   "cell_type": "markdown",
   "id": "8112722f",
   "metadata": {},
   "source": [
    "Per trovare i parametri del modello utilizzo la funzione find_parameters della libreria ZI:\n",
    "\n",
    "### Input\n",
    "1. df: pd.DataFrame\n",
    "    - DataFrame dei dati puliti con il notebook clean data\n",
    "    \n",
    "### Output\n",
    "1. lam: float\n",
    "    - Rate di arrivo LO \n",
    "2. mu: float\n",
    "    - Rate arrivo MO\n",
    "2. delta: float\n",
    "    - Rate arrivo cancellazioni"
   ]
  },
  {
   "cell_type": "code",
   "execution_count": 11,
   "id": "de9a5865",
   "metadata": {},
   "outputs": [
    {
     "name": "stdout",
     "output_type": "stream",
     "text": [
      "lambda = 0.0056, mu = 0.074, delta = 0.137\n"
     ]
    }
   ],
   "source": [
    "rate_l, rate_m, rate_c = ZI.find_parameters(df)\n",
    "\n",
    "print(f\"lambda = {rate_l:.4f}, mu = {rate_m:.3f}, delta = {rate_c:.3f}\")"
   ]
  },
  {
   "cell_type": "markdown",
   "id": "d811b669",
   "metadata": {},
   "source": [
    "# Simulazioni con il modello ZI\n",
    "\n",
    "La funzione principale della libreria ZI è sim_LOB.\n",
    "\n",
    "### Input\n",
    "\n",
    "- l_rate (float):\n",
    "    - Rate di arrivo dei limit orders per unità di tempo e per prezzo.\n",
    "    \n",
    "- m_rate (float):\n",
    "    - Rate di arrivo dei market orders.\n",
    "    \n",
    "- c_rate (float):\n",
    "    - Rate probabilità di cancellazione di un ordine.\n",
    "    \n",
    "- m0 (int): default = 0\n",
    "    - Mid price iniziale da cui far partire le simulazioni.\n",
    "    \n",
    "- k (int) default = 100\n",
    "    - Grandezza LOB. Per motivi di velocità computazionale bisogna tagliare il LOB ad una certa distanza dal mid price. In generale bisogna scegliere un valore di k almeno 10 volte più grande dello spread medio.\n",
    "    \n",
    "- iterations (int) default = 10_000:\n",
    "    - Numero di iterazioni della simulazione.\n",
    "    \n",
    "- burn (int) default = None:\n",
    "    - Numero di iterazioni iniziali da scartare. Se nessun valore viene fornito si scarta un numero di iterazioni pari a int(iterations / 3)\n",
    "\n",
    "### Output\n",
    "La funzione ritorna 2 DataFrame:\n",
    "\n",
    "- df_m\n",
    "- df_o\n",
    "\n",
    "   "
   ]
  },
  {
   "cell_type": "code",
   "execution_count": 13,
   "id": "b6ec7488",
   "metadata": {},
   "outputs": [],
   "source": [
    "#faccio partire una simulazione con 50_000 iterazioni utilizzando\n",
    "# i parametri ricavati da TSLA\n",
    "message, order = ZI.sim_LOB(rate_l, rate_m, rate_c, m0 = 10_000,  k = 500, \n",
    "                                iterations = 50_000, burn = 10_000)\n"
   ]
  },
  {
   "cell_type": "markdown",
   "id": "2badcd71",
   "metadata": {},
   "source": [
    "Il primo dataframe (o anche message dataframe) contiene le seguenti informazioni:\n",
    "\n",
    "- Spread (int)\n",
    "    - Il bid-ask spread subito dopo l'arrivo di un ordine espresso in tick.\n",
    "- MidPrice (int)\n",
    "    - Il mid price subito dopo l'arrivo di un ordine espresso in tick.\n",
    "- Price (int)\n",
    "    - Il prezzo di un ordine espresso in tick.\n",
    "- Type {\"Limit\", \"Market\", \"Cancel\"}\n",
    "    - Il tipo di un ordine.\n",
    "- Sign {-1, 1}\n",
    "    - Il segno di un ordine (-1 = sell, +1 = buy)."
   ]
  },
  {
   "cell_type": "code",
   "execution_count": 14,
   "id": "6c16a262",
   "metadata": {
    "scrolled": true
   },
   "outputs": [
    {
     "data": {
      "text/html": [
       "<div>\n",
       "<style scoped>\n",
       "    .dataframe tbody tr th:only-of-type {\n",
       "        vertical-align: middle;\n",
       "    }\n",
       "\n",
       "    .dataframe tbody tr th {\n",
       "        vertical-align: top;\n",
       "    }\n",
       "\n",
       "    .dataframe thead th {\n",
       "        text-align: right;\n",
       "    }\n",
       "</style>\n",
       "<table border=\"1\" class=\"dataframe\">\n",
       "  <thead>\n",
       "    <tr style=\"text-align: right;\">\n",
       "      <th></th>\n",
       "      <th>Spread</th>\n",
       "      <th>MidPrice</th>\n",
       "      <th>Price</th>\n",
       "      <th>Type</th>\n",
       "      <th>Sign</th>\n",
       "    </tr>\n",
       "  </thead>\n",
       "  <tbody>\n",
       "    <tr>\n",
       "      <th>0</th>\n",
       "      <td>68.0</td>\n",
       "      <td>10280.0</td>\n",
       "      <td>10276.0</td>\n",
       "      <td>Limit</td>\n",
       "      <td>1.0</td>\n",
       "    </tr>\n",
       "    <tr>\n",
       "      <th>1</th>\n",
       "      <td>68.0</td>\n",
       "      <td>10280.0</td>\n",
       "      <td>10474.0</td>\n",
       "      <td>Cancel</td>\n",
       "      <td>-1.0</td>\n",
       "    </tr>\n",
       "    <tr>\n",
       "      <th>2</th>\n",
       "      <td>68.0</td>\n",
       "      <td>10280.0</td>\n",
       "      <td>10185.0</td>\n",
       "      <td>Cancel</td>\n",
       "      <td>1.0</td>\n",
       "    </tr>\n",
       "    <tr>\n",
       "      <th>3</th>\n",
       "      <td>68.0</td>\n",
       "      <td>10280.0</td>\n",
       "      <td>10033.0</td>\n",
       "      <td>Limit</td>\n",
       "      <td>1.0</td>\n",
       "    </tr>\n",
       "    <tr>\n",
       "      <th>4</th>\n",
       "      <td>68.0</td>\n",
       "      <td>10280.0</td>\n",
       "      <td>10064.0</td>\n",
       "      <td>Limit</td>\n",
       "      <td>1.0</td>\n",
       "    </tr>\n",
       "  </tbody>\n",
       "</table>\n",
       "</div>"
      ],
      "text/plain": [
       "   Spread  MidPrice    Price    Type  Sign\n",
       "0    68.0   10280.0  10276.0   Limit   1.0\n",
       "1    68.0   10280.0  10474.0  Cancel  -1.0\n",
       "2    68.0   10280.0  10185.0  Cancel   1.0\n",
       "3    68.0   10280.0  10033.0   Limit   1.0\n",
       "4    68.0   10280.0  10064.0   Limit   1.0"
      ]
     },
     "execution_count": 14,
     "metadata": {},
     "output_type": "execute_result"
    }
   ],
   "source": [
    "message.head()"
   ]
  },
  {
   "cell_type": "markdown",
   "id": "d650d7d3",
   "metadata": {},
   "source": [
    "Il secondo dataframe (order dataframe) contiene il prezzo e il volume delle 10 migliori quote dell'ask e del bid."
   ]
  },
  {
   "cell_type": "code",
   "execution_count": 15,
   "id": "1944409c",
   "metadata": {
    "scrolled": true
   },
   "outputs": [
    {
     "data": {
      "text/html": [
       "<div>\n",
       "<style scoped>\n",
       "    .dataframe tbody tr th:only-of-type {\n",
       "        vertical-align: middle;\n",
       "    }\n",
       "\n",
       "    .dataframe tbody tr th {\n",
       "        vertical-align: top;\n",
       "    }\n",
       "\n",
       "    .dataframe thead th {\n",
       "        text-align: right;\n",
       "    }\n",
       "</style>\n",
       "<table border=\"1\" class=\"dataframe\">\n",
       "  <thead>\n",
       "    <tr style=\"text-align: right;\">\n",
       "      <th></th>\n",
       "      <th>AskPrice_0</th>\n",
       "      <th>AskVolume_0</th>\n",
       "      <th>BidPrice_0</th>\n",
       "      <th>BidVolume_0</th>\n",
       "      <th>AskPrice_1</th>\n",
       "      <th>AskVolume_1</th>\n",
       "      <th>BidPrice_1</th>\n",
       "      <th>BidVolume_1</th>\n",
       "      <th>AskPrice_2</th>\n",
       "      <th>AskVolume_2</th>\n",
       "      <th>...</th>\n",
       "      <th>BidPrice_7</th>\n",
       "      <th>BidVolume_7</th>\n",
       "      <th>AskPrice_8</th>\n",
       "      <th>AskVolume_8</th>\n",
       "      <th>BidPrice_8</th>\n",
       "      <th>BidVolume_8</th>\n",
       "      <th>AskPrice_9</th>\n",
       "      <th>AskVolume_9</th>\n",
       "      <th>BidPrice_9</th>\n",
       "      <th>BidVolume_9</th>\n",
       "    </tr>\n",
       "  </thead>\n",
       "  <tbody>\n",
       "    <tr>\n",
       "      <th>0</th>\n",
       "      <td>10314.0</td>\n",
       "      <td>1.0</td>\n",
       "      <td>10246.0</td>\n",
       "      <td>1.0</td>\n",
       "      <td>10319.0</td>\n",
       "      <td>1.0</td>\n",
       "      <td>10185.0</td>\n",
       "      <td>1.0</td>\n",
       "      <td>10324.0</td>\n",
       "      <td>1.0</td>\n",
       "      <td>...</td>\n",
       "      <td>10032.0</td>\n",
       "      <td>1.0</td>\n",
       "      <td>10474.0</td>\n",
       "      <td>1.0</td>\n",
       "      <td>10030.0</td>\n",
       "      <td>0.0</td>\n",
       "      <td>10488.0</td>\n",
       "      <td>1.0</td>\n",
       "      <td>10030.0</td>\n",
       "      <td>0.0</td>\n",
       "    </tr>\n",
       "    <tr>\n",
       "      <th>1</th>\n",
       "      <td>10314.0</td>\n",
       "      <td>1.0</td>\n",
       "      <td>10246.0</td>\n",
       "      <td>1.0</td>\n",
       "      <td>10319.0</td>\n",
       "      <td>1.0</td>\n",
       "      <td>10185.0</td>\n",
       "      <td>1.0</td>\n",
       "      <td>10324.0</td>\n",
       "      <td>1.0</td>\n",
       "      <td>...</td>\n",
       "      <td>10032.0</td>\n",
       "      <td>1.0</td>\n",
       "      <td>10488.0</td>\n",
       "      <td>1.0</td>\n",
       "      <td>10030.0</td>\n",
       "      <td>0.0</td>\n",
       "      <td>10489.0</td>\n",
       "      <td>1.0</td>\n",
       "      <td>10030.0</td>\n",
       "      <td>0.0</td>\n",
       "    </tr>\n",
       "    <tr>\n",
       "      <th>2</th>\n",
       "      <td>10314.0</td>\n",
       "      <td>1.0</td>\n",
       "      <td>10246.0</td>\n",
       "      <td>1.0</td>\n",
       "      <td>10319.0</td>\n",
       "      <td>1.0</td>\n",
       "      <td>10160.0</td>\n",
       "      <td>1.0</td>\n",
       "      <td>10324.0</td>\n",
       "      <td>1.0</td>\n",
       "      <td>...</td>\n",
       "      <td>10030.0</td>\n",
       "      <td>0.0</td>\n",
       "      <td>10488.0</td>\n",
       "      <td>1.0</td>\n",
       "      <td>10030.0</td>\n",
       "      <td>0.0</td>\n",
       "      <td>10489.0</td>\n",
       "      <td>1.0</td>\n",
       "      <td>10030.0</td>\n",
       "      <td>0.0</td>\n",
       "    </tr>\n",
       "    <tr>\n",
       "      <th>3</th>\n",
       "      <td>10314.0</td>\n",
       "      <td>1.0</td>\n",
       "      <td>10246.0</td>\n",
       "      <td>1.0</td>\n",
       "      <td>10319.0</td>\n",
       "      <td>1.0</td>\n",
       "      <td>10160.0</td>\n",
       "      <td>1.0</td>\n",
       "      <td>10324.0</td>\n",
       "      <td>1.0</td>\n",
       "      <td>...</td>\n",
       "      <td>10032.0</td>\n",
       "      <td>1.0</td>\n",
       "      <td>10488.0</td>\n",
       "      <td>1.0</td>\n",
       "      <td>10030.0</td>\n",
       "      <td>0.0</td>\n",
       "      <td>10489.0</td>\n",
       "      <td>1.0</td>\n",
       "      <td>10030.0</td>\n",
       "      <td>0.0</td>\n",
       "    </tr>\n",
       "    <tr>\n",
       "      <th>4</th>\n",
       "      <td>10314.0</td>\n",
       "      <td>1.0</td>\n",
       "      <td>10246.0</td>\n",
       "      <td>1.0</td>\n",
       "      <td>10319.0</td>\n",
       "      <td>1.0</td>\n",
       "      <td>10160.0</td>\n",
       "      <td>1.0</td>\n",
       "      <td>10324.0</td>\n",
       "      <td>1.0</td>\n",
       "      <td>...</td>\n",
       "      <td>10033.0</td>\n",
       "      <td>1.0</td>\n",
       "      <td>10488.0</td>\n",
       "      <td>1.0</td>\n",
       "      <td>10032.0</td>\n",
       "      <td>1.0</td>\n",
       "      <td>10489.0</td>\n",
       "      <td>1.0</td>\n",
       "      <td>10030.0</td>\n",
       "      <td>0.0</td>\n",
       "    </tr>\n",
       "  </tbody>\n",
       "</table>\n",
       "<p>5 rows × 40 columns</p>\n",
       "</div>"
      ],
      "text/plain": [
       "   AskPrice_0  AskVolume_0  BidPrice_0  BidVolume_0  AskPrice_1  AskVolume_1  \\\n",
       "0     10314.0          1.0     10246.0          1.0     10319.0          1.0   \n",
       "1     10314.0          1.0     10246.0          1.0     10319.0          1.0   \n",
       "2     10314.0          1.0     10246.0          1.0     10319.0          1.0   \n",
       "3     10314.0          1.0     10246.0          1.0     10319.0          1.0   \n",
       "4     10314.0          1.0     10246.0          1.0     10319.0          1.0   \n",
       "\n",
       "   BidPrice_1  BidVolume_1  AskPrice_2  AskVolume_2  ...  BidPrice_7  \\\n",
       "0     10185.0          1.0     10324.0          1.0  ...     10032.0   \n",
       "1     10185.0          1.0     10324.0          1.0  ...     10032.0   \n",
       "2     10160.0          1.0     10324.0          1.0  ...     10030.0   \n",
       "3     10160.0          1.0     10324.0          1.0  ...     10032.0   \n",
       "4     10160.0          1.0     10324.0          1.0  ...     10033.0   \n",
       "\n",
       "   BidVolume_7  AskPrice_8  AskVolume_8  BidPrice_8  BidVolume_8  AskPrice_9  \\\n",
       "0          1.0     10474.0          1.0     10030.0          0.0     10488.0   \n",
       "1          1.0     10488.0          1.0     10030.0          0.0     10489.0   \n",
       "2          0.0     10488.0          1.0     10030.0          0.0     10489.0   \n",
       "3          1.0     10488.0          1.0     10030.0          0.0     10489.0   \n",
       "4          1.0     10488.0          1.0     10032.0          1.0     10489.0   \n",
       "\n",
       "   AskVolume_9  BidPrice_9  BidVolume_9  \n",
       "0          1.0     10030.0          0.0  \n",
       "1          1.0     10030.0          0.0  \n",
       "2          1.0     10030.0          0.0  \n",
       "3          1.0     10030.0          0.0  \n",
       "4          1.0     10030.0          0.0  \n",
       "\n",
       "[5 rows x 40 columns]"
      ]
     },
     "execution_count": 15,
     "metadata": {},
     "output_type": "execute_result"
    }
   ],
   "source": [
    "order.head()"
   ]
  },
  {
   "cell_type": "markdown",
   "id": "c5512c3f",
   "metadata": {},
   "source": [
    "Possiamo usare i due dataframe per graficare l'andamento del mid price"
   ]
  },
  {
   "cell_type": "code",
   "execution_count": 16,
   "id": "d4be561d",
   "metadata": {
    "scrolled": false
   },
   "outputs": [
    {
     "data": {
      "text/plain": [
       "<AxesSubplot:>"
      ]
     },
     "execution_count": 16,
     "metadata": {},
     "output_type": "execute_result"
    },
    {
     "data": {
      "image/png": "[encoded data removed]",
      "text/plain": [
       "<Figure size 432x288 with 1 Axes>"
      ]
     },
     "metadata": {},
     "output_type": "display_data"
    }
   ],
   "source": [
    "message[\"MidPrice\"].plot()"
   ]
  },
  {
   "cell_type": "markdown",
   "id": "01976379",
   "metadata": {},
   "source": [
    "Per fare l'istogramma del bid-ask spread"
   ]
  },
  {
   "cell_type": "code",
   "execution_count": 21,
   "id": "a007ba73",
   "metadata": {
    "scrolled": true
   },
   "outputs": [
    {
     "data": {
      "text/plain": [
       "<AxesSubplot:>"
      ]
     },
     "execution_count": 21,
     "metadata": {},
     "output_type": "execute_result"
    },
    {
     "data": {
      "image/png": "[encoded data removed]",
      "text/plain": [
       "<Figure size 432x288 with 1 Axes>"
      ]
     },
     "metadata": {},
     "output_type": "display_data"
    }
   ],
   "source": [
    "message[\"Spread\"].hist(bins=np.arange(0,200,5))"
   ]
  },
  {
   "cell_type": "markdown",
   "id": "f64c4988",
   "metadata": {},
   "source": [
    "Per fare un grafico a barre del tipo degli ordini"
   ]
  },
  {
   "cell_type": "code",
   "execution_count": 18,
   "id": "ca09c296",
   "metadata": {
    "scrolled": true
   },
   "outputs": [
    {
     "data": {
      "text/plain": [
       "<AxesSubplot:>"
      ]
     },
     "execution_count": 18,
     "metadata": {},
     "output_type": "execute_result"
    },
    {
     "data": {
      "image/png": "[encoded data removed]",
      "text/plain": [
       "<Figure size 432x288 with 1 Axes>"
      ]
     },
     "metadata": {},
     "output_type": "display_data"
    }
   ],
   "source": [
    "message[\"Type\"].value_counts().plot.bar()"
   ]
  },
  {
   "cell_type": "code",
   "execution_count": null,
   "id": "8eeb4587",
   "metadata": {},
   "outputs": [],
   "source": []
  }
 ],
 "metadata": {
  "kernelspec": {
   "display_name": "Python 3",
   "language": "python",
   "name": "python3"
  },
  "language_info": {
   "codemirror_mode": {
    "name": "ipython",
    "version": 3
   },
   "file_extension": ".py",
   "mimetype": "text/x-python",
   "name": "python",
   "nbconvert_exporter": "python",
   "pygments_lexer": "ipython3",
   "version": "3.8.8"
  }
 },
 "nbformat": 4,
 "nbformat_minor": 5
}
